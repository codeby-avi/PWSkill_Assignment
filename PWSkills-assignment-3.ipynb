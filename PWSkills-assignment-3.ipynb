{
 "cells": [
  {
   "cell_type": "markdown",
   "id": "dff305e8",
   "metadata": {},
   "source": [
    "Q1. Explain with an example each when to use a for loop and a while loop?"
   ]
  },
  {
   "cell_type": "code",
   "execution_count": null,
   "id": "5ce8c1ac",
   "metadata": {},
   "outputs": [],
   "source": [
    "\"\"\" For loops are used when you have a known number of iterations or when you want to iterate through a sequence (list, tuple, string, etc.) to perform an action for sequence.each item in the \"\"\"\n",
    "# print the numbers 0 to 9 using for loop\n",
    "for i in range(10):\n",
    "    print(i)\n",
    "\n",
    "\"\"\"While loops are used when you want to keep executing a block of code as long as a certain condition is met.\n",
    "Example: \"\"\"\n",
    "# print the numbers 0 to 9 using while loop\n",
    "i = 0\n",
    "while i < 10:\n",
    "    print(i)\n",
    "    i += 1\n"
   ]
  },
  {
   "cell_type": "markdown",
   "id": "68c71c9c",
   "metadata": {},
   "source": [
    "It is important to keep in mind that while loops can lead to infinite loops if the termination condition is never met, so it's crucial to make sure that the condition eventually becomes false."
   ]
  },
  {
   "cell_type": "markdown",
   "id": "0e3ea299",
   "metadata": {},
   "source": [
    "Q2. Write a python program to print the sum and product of the first 10 natural numbers using for and while loop?m"
   ]
  },
  {
   "cell_type": "code",
   "execution_count": null,
   "id": "8e2e35db",
   "metadata": {},
   "outputs": [],
   "source": [
    "#Ans: Here's an example using a for loop to print the sum and product of the first 10 natural numbers:\n",
    "\n",
    "\n",
    "sum = 0\n",
    "product = 1\n",
    "\n",
    "for i in range(1, 11):\n",
    "    sum += i\n",
    "    product *= i\n",
    "\n",
    "print(\"The sum of the first 10 natural numbers is:\", sum)\n",
    "print(\"The product of the first 10 natural numbers is:\", product)\n",
    "\n",
    "#And here's an example using a while loop:\n",
    "\n",
    "\n",
    "sum = 0\n",
    "product = 1\n",
    "i = 1\n",
    "\n",
    "while i <= 10:\n",
    "    sum += i\n",
    "    product *= i\n",
    "    i += 1\n",
    "\n",
    "print(\"The sum of the first 10 natural numbers is:\", sum)\n",
    "print(\"The product of the first 10 natural numbers is:\", product)"
   ]
  },
  {
   "cell_type": "markdown",
   "id": "61d8f9c0",
   "metadata": {},
   "source": [
    "Q3. Create a python program to compute the electricity bill for a household. The per-unit charges in rupees are as follows: For the first 100 units, the user will be charged Rs. 4.5 per unit, for the next 100 units, the user will be charged Rs. 6 per unit, and for the next 100 units, the user will be charged Rs. 10 per unit, After 300 units and above the user will be charged Rs. 20 per unit. You are required to take the units of electricity consumed in a month from the user as input. Your program must pass this test case: when the unit of electricity consumed by the user in a month is 310, the total electricity bill should be 2250."
   ]
  },
  {
   "cell_type": "code",
   "execution_count": null,
   "id": "c013dcf0",
   "metadata": {},
   "outputs": [],
   "source": [
    "units = int(input(\"Enter the units of electricity consumed: \"))\n",
    "\n",
    "if units <= 100:\n",
    "    bill = units * 4.5\n",
    "elif units <= 200:\n",
    "    bill = 100 * 4.5 + (units - 100) * 6\n",
    "elif units <= 300:\n",
    "    bill = 100 * 4.5 + 100 * 6 + (units - 200) * 10\n",
    "else:\n",
    "    bill = 100 * 4.5 + 100 * 6 + 100 * 10 + (units - 300) * 20\n",
    "\n",
    "print(\"The total electricity bill is: Rs.\", bill)"
   ]
  },
  {
   "cell_type": "markdown",
   "id": "00016393",
   "metadata": {},
   "source": [
    "Q4. Create a list of numbers from 1 to 100. Use for loop and while loop to calculate the cube of each number and if the cube of that number is divisible by 4 or 5 then append that number in a list and print that list.\n"
   ]
  },
  {
   "cell_type": "code",
   "execution_count": null,
   "id": "a4780413",
   "metadata": {},
   "outputs": [],
   "source": [
    "#Ans: Here is a program that uses a for loop to create a list of numbers from 1 to 100, and then calculates the cube of each number and appends the numbers that are divisible by 4 or 5 to a new list:\n",
    "\n",
    "\n",
    "numbers = []\n",
    "cube_divisible = []\n",
    "\n",
    "for i in range(1, 101):\n",
    "    numbers.append(i)\n",
    "    cube = i ** 3\n",
    "    if cube % 4 == 0 or cube % 5 == 0:\n",
    "        cube_divisible.append(cube)\n",
    "\n",
    "print(\"The list of cubes that are divisible by 4 or 5:\", cube_divisible)\n",
    "\n",
    "#And here is the same program using a while loop:\n",
    "\n",
    "\n",
    "numbers = []\n",
    "cube_divisible = []\n",
    "i = 1\n",
    "\n",
    "while i <= 100:\n",
    "    numbers.append(i)\n",
    "    cube = i ** 3\n",
    "    if cube % 4 == 0 or cube % 5 == 0:\n",
    "        cube_divisible.append(cube)\n",
    "    i += 1\n",
    "\n",
    "print(\"The list of cubes that are divisible by 4 or 5:\", cube_divisible)\n",
    "\n",
    "#Both programs will produce the same output, which is the list of cubes of the numbers from 1 to 100 that are divisible by 4 or 5."
   ]
  },
  {
   "cell_type": "markdown",
   "id": "e73bb11e",
   "metadata": {},
   "source": [
    "Q5. Write a program to filter count vowels in the below-given string. string = \"I want to become a data scientist"
   ]
  },
  {
   "cell_type": "code",
   "execution_count": null,
   "id": "3e08e15f",
   "metadata": {},
   "outputs": [],
   "source": [
    "\n",
    "string = \"I want to become a data scientist\"\n",
    "vowels = \"aeiouAEIOU\"\n",
    "count = 0\n",
    "\n",
    "for char in string:\n",
    "    if char in vowels:\n",
    "        count += 1\n",
    "\n",
    "print(\"The number of vowels in the string is:\", count)\n"
   ]
  },
  {
   "cell_type": "code",
   "execution_count": null,
   "id": "2be61d19",
   "metadata": {},
   "outputs": [],
   "source": []
  }
 ],
 "metadata": {
  "kernelspec": {
   "display_name": "Python 3 (ipykernel)",
   "language": "python",
   "name": "python3"
  },
  "language_info": {
   "codemirror_mode": {
    "name": "ipython",
    "version": 3
   },
   "file_extension": ".py",
   "mimetype": "text/x-python",
   "name": "python",
   "nbconvert_exporter": "python",
   "pygments_lexer": "ipython3",
   "version": "3.11.5"
  }
 },
 "nbformat": 4,
 "nbformat_minor": 5
}
