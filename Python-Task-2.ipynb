{
 "cells": [
  {
   "cell_type": "markdown",
   "id": "002ee965",
   "metadata": {},
   "source": [
    "Q1. You are writing code for a company. The requirement of the company is that you create a python\n",
    "function that will check whether the password entered by the user is correct or not. The function should\n",
    "take the password as input and return the string “Valid Password” if the entered password follows the\n",
    "below-given password guidelines else it should return “Invalid Password”.\n",
    "Note: 1. The Password should contain at least two uppercase letters and at least two lowercase letters.\n",
    "2. The Password should contain at least a number and three special characters.\n",
    "3. The length of the password should be 10 characters long."
   ]
  },
  {
   "cell_type": "code",
   "execution_count": 1,
   "id": "9a01acf5",
   "metadata": {},
   "outputs": [
    {
     "name": "stdout",
     "output_type": "stream",
     "text": [
      "Invalid Password\n",
      "Invalid Password\n",
      "Invalid Password\n"
     ]
    }
   ],
   "source": [
    "import string\n",
    "\n",
    "def check_password(password):\n",
    "    # Initialize counters for uppercase, lowercase, digits, and special characters\n",
    "    uppercase_count = 0\n",
    "    lowercase_count = 0\n",
    "    digit_count = 0\n",
    "    special_char_count = 0\n",
    "\n",
    "    # Check each character of the password against its category\n",
    "    for char in password:\n",
    "        if char.isupper():\n",
    "            uppercase_count += 1\n",
    "        elif char.islower():\n",
    "            lowercase_count += 1\n",
    "        elif char.isdigit():\n",
    "            digit_count += 1\n",
    "        elif char in string.punctuation:\n",
    "            special_char_count += 1\n",
    "\n",
    "    # Check all conditions to validate the password\n",
    "    if (\n",
    "        len(password) == 10\n",
    "        and uppercase_count >= 2\n",
    "        and lowercase_count >= 2\n",
    "        and digit_count >= 1\n",
    "        and special_char_count >= 3\n",
    "    ):\n",
    "        return \"Valid Password\"\n",
    "    else:\n",
    "        return \"Invalid Password\"\n",
    "\n",
    "# Test the function with some sample passwords\n",
    "password1 = \"Abcdef@1234\"\n",
    "password2 = \"ABcdEF@#12\"\n",
    "password3 = \"abcdEf@#123\"\n",
    "\n",
    "print(check_password(password1))  # Should print \"Valid Password\"\n",
    "print(check_password(password2))  # Should print \"Invalid Password\"\n",
    "print(check_password(password3))  # Should print \"Invalid Password\"\n"
   ]
  },
  {
   "cell_type": "markdown",
   "id": "e3e0fe8b",
   "metadata": {},
   "source": [
    "Q2. Solve the below-given questions using at least one of the following:\n",
    "1. Lambda functioJ\n",
    "2. Filter functioJ\n",
    "3. Zap functioJ\n",
    "4. List ComprehensioI\n",
    "B Check if the string starts with a particular letterY\n",
    "B Check if the string is numericY\n",
    "B Sort a list of tuples having fruit names and their quantity. [(\"mango\",99),(\"orange\",80), (\"grapes\", 1000)-\n",
    "B Find the squares of numbers from 1 to 10Y\n",
    "B Find the cube root of numbers from 1 to 10Y\n",
    "B Check if a given number is evenY\n",
    "B Filter odd numbers from the given list.\n",
    "[1,2,3,4,5,6,7,8,9,10-\n",
    "B Sort a list of integers into positive"
   ]
  },
  {
   "cell_type": "code",
   "execution_count": 2,
   "id": "254af9a3",
   "metadata": {},
   "outputs": [
    {
     "name": "stdout",
     "output_type": "stream",
     "text": [
      "True\n",
      "True\n",
      "False\n",
      "[('orange', 80), ('mango', 99), ('grapes', 1000)]\n",
      "[1, 4, 9, 16, 25, 36, 49, 64, 81, 100]\n",
      "[1.0, 1.2599210498948732, 1.4422495703074083, 1.5874010519681994, 1.7099759466766968, 1.8171205928321397, 1.912931182772389, 2.0, 2.080083823051904, 2.154434690031884]\n",
      "True\n",
      "False\n",
      "[1, 3, 5, 7, 9]\n",
      "Positive: [1, 2, 3, 4, 5, 6]\n",
      "Negative: [-1, -2, -3, -4, -5]\n"
     ]
    }
   ],
   "source": [
    "#1. Check if the string starts with a particular letter\n",
    "starts_with_letter = lambda string, letter: string.startswith(letter)\n",
    "print(starts_with_letter(\"Python\", \"P\"))  # True\n",
    "\n",
    "#2. Check if the string is numeric\n",
    "is_numeric = lambda string: string.isnumeric()\n",
    "print(is_numeric(\"123\"))  # True\n",
    "print(is_numeric(\"abc\"))  # False\n",
    "\n",
    "#3. Sort a list of tuples having fruit names and their quantity\n",
    "fruits = [(\"mango\", 99), (\"orange\", 80), (\"grapes\", 1000)]\n",
    "sorted_fruits = sorted(fruits, key=lambda x: x[1])\n",
    "print(sorted_fruits)\n",
    "\n",
    "#4. Find the squares of numbers from 1 to 10\n",
    "\n",
    "squares = [x ** 2 for x in range(1, 11)]\n",
    "print(squares)\n",
    "\n",
    "#5. Find the cube root of numbers from 1 to 10\n",
    "\n",
    "cube_roots = [x ** (1/3) for x in range(1, 11)]\n",
    "print(cube_roots)\n",
    "\n",
    "#6. Check if a given number is even\n",
    "\n",
    "is_even = lambda num: num % 2 == 0\n",
    "print(is_even(4))  # True\n",
    "print(is_even(3))  # False\n",
    "\n",
    "#7. Filter odd numbers from the given list\n",
    "\n",
    "numbers = [1, 2, 3, 4, 5, 6, 7, 8, 9, 10]\n",
    "odd_numbers = list(filter(lambda x: x % 2 != 0, numbers))\n",
    "print(odd_numbers)\n",
    "\n",
    "#8. Sort a list of integers into positive and negative integers lists\n",
    "\n",
    "numbers_list = [1, 2, 3, 4, 5, 6, -1, -2, -3, -4, -5, 0]\n",
    "positive_numbers = [x for x in numbers_list if x > 0]\n",
    "negative_numbers = [x for x in numbers_list if x < 0]\n",
    "print(\"Positive:\", positive_numbers)\n",
    "print(\"Negative:\", negative_numbers)\n"
   ]
  },
  {
   "cell_type": "code",
   "execution_count": null,
   "id": "f09dab5c",
   "metadata": {},
   "outputs": [],
   "source": []
  }
 ],
 "metadata": {
  "kernelspec": {
   "display_name": "Python 3 (ipykernel)",
   "language": "python",
   "name": "python3"
  },
  "language_info": {
   "codemirror_mode": {
    "name": "ipython",
    "version": 3
   },
   "file_extension": ".py",
   "mimetype": "text/x-python",
   "name": "python",
   "nbconvert_exporter": "python",
   "pygments_lexer": "ipython3",
   "version": "3.11.5"
  }
 },
 "nbformat": 4,
 "nbformat_minor": 5
}
