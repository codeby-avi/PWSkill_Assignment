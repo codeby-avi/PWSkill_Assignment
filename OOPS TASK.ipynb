{
 "cells": [
  {
   "cell_type": "markdown",
   "id": "e70235a7",
   "metadata": {},
   "source": [
    "Q1, Create a vehicle class with an init method having instance variables as name_of_vehicle, max_speed\n",
    "and average_of_vehicle."
   ]
  },
  {
   "cell_type": "code",
   "execution_count": 1,
   "id": "a2a71d94",
   "metadata": {},
   "outputs": [
    {
     "name": "stdout",
     "output_type": "stream",
     "text": [
      "Name of the Vehicle: Car\n",
      "Maximum Speed: 200 km/h\n",
      "Average Speed: 120 km/h\n"
     ]
    }
   ],
   "source": [
    "class Vehicle:\n",
    "    def __init__(self, name_of_vehicle, max_speed, average_of_vehicle):\n",
    "        self.name_of_vehicle = name_of_vehicle\n",
    "        self.max_speed = max_speed\n",
    "        self.average_of_vehicle = average_of_vehicle\n",
    "\n",
    "    def display_vehicle_details(self):\n",
    "        \"\"\"Display details of the vehicle.\"\"\"\n",
    "        print(f\"Name of the Vehicle: {self.name_of_vehicle}\")\n",
    "        print(f\"Maximum Speed: {self.max_speed} km/h\")\n",
    "        print(f\"Average Speed: {self.average_of_vehicle} km/h\")\n",
    "\n",
    "\n",
    "# Create an instance of the Vehicle class\n",
    "vehicle1 = Vehicle(\"Car\", 200, 120)\n",
    "\n",
    "# Display details of the vehicle\n",
    "vehicle1.display_vehicle_details()\n"
   ]
  },
  {
   "cell_type": "markdown",
   "id": "b40c63ca",
   "metadata": {},
   "source": [
    "Q2. Create a child class car from the vehicle class created in Que 1, which will inherit the vehicle class.\n",
    "Create a method named seating_capacity which takes capacity as an argument and returns the name of\n",
    "the vehicle and its seating capacity."
   ]
  },
  {
   "cell_type": "code",
   "execution_count": 2,
   "id": "df4ee441",
   "metadata": {},
   "outputs": [
    {
     "name": "stdout",
     "output_type": "stream",
     "text": [
      "Name of the Vehicle: Sedan\n",
      "Maximum Speed: 180 km/h\n",
      "Average Speed: 110 km/h\n",
      "The Sedan has a seating capacity of 5 passengers.\n"
     ]
    }
   ],
   "source": [
    "# Parent Class: Vehicle\n",
    "class Vehicle:\n",
    "    def __init__(self, name_of_vehicle, max_speed, average_of_vehicle):\n",
    "        self.name_of_vehicle = name_of_vehicle\n",
    "        self.max_speed = max_speed\n",
    "        self.average_of_vehicle = average_of_vehicle\n",
    "\n",
    "    def display_vehicle_details(self):\n",
    "        \"\"\"Display details of the vehicle.\"\"\"\n",
    "        print(f\"Name of the Vehicle: {self.name_of_vehicle}\")\n",
    "        print(f\"Maximum Speed: {self.max_speed} km/h\")\n",
    "        print(f\"Average Speed: {self.average_of_vehicle} km/h\")\n",
    "\n",
    "\n",
    "# Child Class: Car (inherits from Vehicle)\n",
    "class Car(Vehicle):\n",
    "    def __init__(self, name_of_vehicle, max_speed, average_of_vehicle):\n",
    "        super().__init__(name_of_vehicle, max_speed, average_of_vehicle)\n",
    "\n",
    "    def seating_capacity(self, capacity):\n",
    "        \"\"\"Return the name of the vehicle and its seating capacity.\"\"\"\n",
    "        return f\"The {self.name_of_vehicle} has a seating capacity of {capacity} passengers.\"\n",
    "\n",
    "\n",
    "# Create an instance of the Car class\n",
    "car1 = Car(\"Sedan\", 180, 110)\n",
    "\n",
    "# Display details of the car\n",
    "car1.display_vehicle_details()\n",
    "\n",
    "# Call the seating_capacity method for the car\n",
    "print(car1.seating_capacity(5))\n"
   ]
  },
  {
   "cell_type": "markdown",
   "id": "fc9311cb",
   "metadata": {},
   "source": [
    "Q3. What is multiple inheritance? Write a python code to demonstrate multiple inheritance."
   ]
  },
  {
   "cell_type": "code",
   "execution_count": null,
   "id": "4a42e033",
   "metadata": {},
   "outputs": [],
   "source": [
    "# Parent Class A\n",
    "class ClassA:\n",
    "    def method_a(self):\n",
    "        return \"Method A from ClassA\"\n",
    "\n",
    "\n",
    "# Parent Class B\n",
    "class ClassB:\n",
    "    def method_b(self):\n",
    "        return \"Method B from ClassB\"\n",
    "\n",
    "\n",
    "# Child Class C inherits from ClassA and ClassB\n",
    "class ClassC(ClassA, ClassB):\n",
    "    def method_c(self):\n",
    "        return \"Method C from ClassC\"\n",
    "\n",
    "\n",
    "# Create an instance of ClassC\n",
    "obj_c = ClassC()\n",
    "\n",
    "# Call methods from ClassC\n",
    "print(obj_c.method_a())  # Output: Method A from ClassA\n",
    "print(obj_c.method_b())  # Output: Method B from ClassB\n",
    "print(obj_c.method_c())  # Output: Method C from ClassC\n"
   ]
  },
  {
   "cell_type": "markdown",
   "id": "70f27648",
   "metadata": {},
   "source": [
    "Q4. What are getter and setter in python? Create a class and create a getter and a setter method in this\n",
    "class."
   ]
  },
  {
   "cell_type": "code",
   "execution_count": null,
   "id": "1b637b11",
   "metadata": {},
   "outputs": [],
   "source": [
    "class Person:\n",
    "    def __init__(self, name, age):\n",
    "        self.__name = name  # Private attribute\n",
    "        self.__age = age    # Private attribute\n",
    "\n",
    "    # Getter method for name\n",
    "    def get_name(self):\n",
    "        return self.__name\n",
    "\n",
    "    # Getter method for age\n",
    "    def get_age(self):\n",
    "        return self.__age\n",
    "\n",
    "    # Setter method for name\n",
    "    def set_name(self, name):\n",
    "        self.__name = name\n",
    "\n",
    "    # Setter method for age\n",
    "    def set_age(self, age):\n",
    "        if age > 0:\n",
    "            self.__age = age\n",
    "        else:\n",
    "            print(\"Age cannot be negative.\")\n",
    "\n",
    "    def display_details(self):\n",
    "        print(f\"Name: {self.__name}\")\n",
    "        print(f\"Age: {self.__age}\")\n",
    "\n",
    "\n",
    "# Create an instance of the Person class\n",
    "person1 = Person(\"John\", 30)\n",
    "\n",
    "# Display details using getter methods\n",
    "print(\"Initial Details:\")\n",
    "print(\"Name:\", person1.get_name())  # Output: John\n",
    "print(\"Age:\", person1.get_age())    # Output: 30\n",
    "\n",
    "# Update details using setter methods\n",
    "person1.set_name(\"Doe\")\n",
    "person1.set_age(35)\n",
    "\n",
    "# Display updated details using getter methods\n",
    "print(\"\\nUpdated Details:\")\n",
    "print(\"Name:\", person1.get_name())  # Output: Doe\n",
    "print(\"Age:\", person1.get_age())    # Output: 35\n"
   ]
  },
  {
   "cell_type": "code",
   "execution_count": null,
   "id": "a2b6463e",
   "metadata": {},
   "outputs": [],
   "source": []
  },
  {
   "cell_type": "markdown",
   "id": "b0fb06ed",
   "metadata": {},
   "source": [
    "Q5.What is method overriding in python? Write a python code to demonstrate method overriding."
   ]
  },
  {
   "cell_type": "code",
   "execution_count": null,
   "id": "433f5175",
   "metadata": {},
   "outputs": [],
   "source": [
    "# Parent Class\n",
    "class Animal:\n",
    "    def speak(self):\n",
    "        \"\"\"Parent class method to define how an animal speaks.\"\"\"\n",
    "        return \"Animal speaks something...\"\n",
    "\n",
    "# Child Class inheriting from Animal\n",
    "class Dog(Animal):\n",
    "    def speak(self):\n",
    "        \"\"\"Overriding the speak method in the child class.\"\"\"\n",
    "        return \"Woof! Woof!\"\n",
    "\n",
    "# Child Class inheriting from Animal\n",
    "class Cat(Animal):\n",
    "    def speak(self):\n",
    "        \"\"\"Overriding the speak method in another child class.\"\"\"\n",
    "        return \"Meow! Meow!\"\n",
    "\n",
    "# Create instances of the child classes\n",
    "dog = Dog()\n",
    "cat = Cat()\n",
    "\n",
    "# Call the speak method of the instances\n",
    "print(\"Dog says:\", dog.speak())  # Output will be: Dog says: Woof! Woof!\n",
    "print(\"Cat says:\", cat.speak())  # Output will be: Cat says: Meow! Meow!\n"
   ]
  }
 ],
 "metadata": {
  "kernelspec": {
   "display_name": "Python 3 (ipykernel)",
   "language": "python",
   "name": "python3"
  },
  "language_info": {
   "codemirror_mode": {
    "name": "ipython",
    "version": 3
   },
   "file_extension": ".py",
   "mimetype": "text/x-python",
   "name": "python",
   "nbconvert_exporter": "python",
   "pygments_lexer": "ipython3",
   "version": "3.11.5"
  }
 },
 "nbformat": 4,
 "nbformat_minor": 5
}
